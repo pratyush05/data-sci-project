{
 "cells": [
  {
   "cell_type": "code",
   "execution_count": 1,
   "metadata": {
    "collapsed": true
   },
   "outputs": [],
   "source": [
    "import pandas as pd"
   ]
  },
  {
   "cell_type": "code",
   "execution_count": 2,
   "metadata": {},
   "outputs": [
    {
     "name": "stdout",
     "output_type": "stream",
     "text": [
      "<class 'pandas.core.frame.DataFrame'>\n",
      "RangeIndex: 251 entries, 0 to 250\n",
      "Data columns (total 6 columns):\n",
      "Date      251 non-null object\n",
      "Open      251 non-null float64\n",
      "High      251 non-null float64\n",
      "Low       251 non-null float64\n",
      "Close     251 non-null float64\n",
      "Volume    251 non-null int64\n",
      "dtypes: float64(4), int64(1), object(1)\n",
      "memory usage: 11.8+ KB\n"
     ]
    }
   ],
   "source": [
    "dfHist = pd.read_csv('./aapl.csv')\n",
    "dfHist.info()"
   ]
  },
  {
   "cell_type": "code",
   "execution_count": 3,
   "metadata": {},
   "outputs": [
    {
     "name": "stdout",
     "output_type": "stream",
     "text": [
      "     Index    Open\n",
      "0        1   96.82\n",
      "1        2  104.26\n",
      "2        3  102.83\n",
      "3        4  104.19\n",
      "4        5  104.41\n",
      "5        6  106.05\n",
      "6        7  104.81\n",
      "7        8  105.58\n",
      "8        9  106.27\n",
      "9       10  107.52\n",
      "10      11  108.23\n",
      "11      12  108.71\n",
      "12      13  108.52\n",
      "13      14  107.78\n",
      "14      15  108.14\n",
      "15      16  109.63\n",
      "16      17  109.10\n",
      "17      18  109.23\n",
      "18      19  108.77\n",
      "19      20  108.86\n",
      "20      21  108.59\n",
      "21      22  108.56\n",
      "22      23  107.39\n",
      "23      24  107.41\n",
      "24      25  106.62\n",
      "25      26  105.80\n",
      "26      27  105.66\n",
      "27      28  106.14\n",
      "28      29  107.70\n",
      "29      30  107.90\n",
      "..     ...     ...\n",
      "221    222  145.74\n",
      "222    223  147.16\n",
      "223    224  147.50\n",
      "224    225  143.32\n",
      "225    226  143.78\n",
      "226    227  143.66\n",
      "227    228  146.87\n",
      "228    229  145.52\n",
      "229    230  145.77\n",
      "230    231  145.13\n",
      "231    232  147.17\n",
      "232    233  145.01\n",
      "233    234  144.49\n",
      "234    235  144.71\n",
      "235    236  144.45\n",
      "236    237  144.88\n",
      "237    238  143.69\n",
      "238    239  143.02\n",
      "239    240  142.90\n",
      "240    241  144.11\n",
      "241    242  144.73\n",
      "242    243  145.87\n",
      "243    244  145.50\n",
      "244    245  147.97\n",
      "245    246  148.82\n",
      "246    247  149.20\n",
      "247    248  150.48\n",
      "248    249  151.50\n",
      "249    250  149.99\n",
      "250    251  150.58\n",
      "\n",
      "[251 rows x 2 columns]\n"
     ]
    }
   ],
   "source": [
    "index = [i for i in range(251, 0, -1)]\n",
    "dfData = pd.DataFrame(dfHist.Open)\n",
    "dfData.index = index\n",
    "dfData.index.names = ['Index']\n",
    "dfData = dfData.iloc[::-1]\n",
    "dfData.reset_index(level = 0, inplace  = True)\n",
    "print(dfData)"
   ]
  },
  {
   "cell_type": "code",
   "execution_count": 4,
   "metadata": {
    "collapsed": true
   },
   "outputs": [],
   "source": [
    "from sklearn.svm import SVR\n",
    "import matplotlib.pyplot as plt\n",
    "%matplotlib inline"
   ]
  },
  {
   "cell_type": "code",
   "execution_count": 5,
   "metadata": {},
   "outputs": [
    {
     "data": {
      "text/plain": [
       "SVR(C=1000.0, cache_size=200, coef0=0.0, degree=3, epsilon=0.1, gamma=0.1,\n",
       "  kernel='rbf', max_iter=-1, shrinking=True, tol=0.001, verbose=False)"
      ]
     },
     "execution_count": 5,
     "metadata": {},
     "output_type": "execute_result"
    }
   ],
   "source": [
    "svr_rbf = SVR(kernel = 'rbf', C = 1e3, gamma = 0.1)\n",
    "X = dfData[['Index']]\n",
    "y = dfData[['Open']].values.ravel()\n",
    "\n",
    "svr_rbf.fit(X, y)"
   ]
  },
  {
   "cell_type": "code",
   "execution_count": 6,
   "metadata": {},
   "outputs": [
    {
     "data": {
      "text/plain": [
       "<matplotlib.text.Text at 0x2b463ae0dd8>"
      ]
     },
     "execution_count": 6,
     "metadata": {},
     "output_type": "execute_result"
    },
    {
     "data": {
      "image/png": "[encoded data removed]",
      "text/plain": [
       "<matplotlib.figure.Figure at 0x2b4638406d8>"
      ]
     },
     "metadata": {},
     "output_type": "display_data"
    }
   ],
   "source": [
    "plt.scatter(X, y, color = 'black', label = 'Data')\n",
    "plt.plot(X, svr_rbf.predict(X), color = 'red', label = 'RBF model')\n",
    "plt.xlabel('Time')\n",
    "plt.ylabel('Price')\n",
    "plt.legend()\n",
    "plt.title('Support Vector Regression Model for Apple')"
   ]
  },
  {
   "cell_type": "code",
   "execution_count": 7,
   "metadata": {},
   "outputs": [
    {
     "name": "stdout",
     "output_type": "stream",
     "text": [
      "Apple stock price for tomorrow: 154.146691171\n"
     ]
    }
   ],
   "source": [
    "print('Apple stock price for tomorrow:', svr_rbf.predict(252)[0])"
   ]
  }
 ],
 "metadata": {
  "kernelspec": {
   "display_name": "Python 3",
   "language": "python",
   "name": "python3"
  },
  "language_info": {
   "codemirror_mode": {
    "name": "ipython",
    "version": 3
   },
   "file_extension": ".py",
   "mimetype": "text/x-python",
   "name": "python",
   "nbconvert_exporter": "python",
   "pygments_lexer": "ipython3",
   "version": "3.6.2"
  }
 },
 "nbformat": 4,
 "nbformat_minor": 2
}
