{
 "cells": [
  {
   "cell_type": "code",
   "execution_count": 1,
   "metadata": {
    "collapsed": true
   },
   "outputs": [],
   "source": [
    "from nltk.corpus import movie_reviews"
   ]
  },
  {
   "cell_type": "code",
   "execution_count": 2,
   "metadata": {
    "collapsed": true
   },
   "outputs": [],
   "source": [
    "neg_review = []\n",
    "neg_label = []\n",
    "pos_review = []\n",
    "pos_label = []"
   ]
  },
  {
   "cell_type": "code",
   "execution_count": 3,
   "metadata": {},
   "outputs": [],
   "source": [
    "for fileid in movie_reviews.fileids('neg'):\n",
    "    neg_review.append(movie_reviews.raw(fileid))\n",
    "    neg_label.append('negative')\n",
    "     \n",
    "for fileid in movie_reviews.fileids('pos'):\n",
    "    pos_review.append(movie_reviews.raw(fileid))\n",
    "    pos_label.append('positive')"
   ]
  },
  {
   "cell_type": "code",
   "execution_count": 4,
   "metadata": {},
   "outputs": [],
   "source": [
    "X_train = neg_review[:900] + pos_review[:900]\n",
    "y_train = neg_label[:900] + pos_label[:900]\n",
    "\n",
    "X_test = neg_review[900:] + pos_review[900:]\n",
    "y_test = neg_label[900:] + pos_label[900:]"
   ]
  },
  {
   "cell_type": "code",
   "execution_count": 5,
   "metadata": {},
   "outputs": [],
   "source": [
    "from sklearn.feature_extraction.text import CountVectorizer\n",
    "from sklearn.naive_bayes import MultinomialNB\n",
    "\n",
    "c_vectorizer = CountVectorizer(stop_words = 'english')\n",
    "nb_train_feat = c_vectorizer.fit_transform(X_train)\n",
    "nb_test_feat = c_vectorizer.transform(X_test)\n",
    "\n",
    "nb = MultinomialNB()\n",
    "nb.fit(nb_train_feat, y_train)\n",
    "predictions = nb.predict(nb_test_feat)\n",
    "\n",
    "nb_predictions = []\n",
    "\n",
    "for prediction in predictions:\n",
    "    if(prediction.count('negative') > prediction.count('positive')):\n",
    "        nb_predictions.append('negative')\n",
    "    else:\n",
    "        nb_predictions.append('positive')"
   ]
  },
  {
   "cell_type": "code",
   "execution_count": 6,
   "metadata": {},
   "outputs": [],
   "source": [
    "from sklearn.feature_extraction.text import TfidfVectorizer\n",
    "from sklearn.svm import SVC\n",
    "\n",
    "t_vectorizer = TfidfVectorizer(min_df = 5, max_df = 0.8, sublinear_tf = True, use_idf = True)\n",
    "svm_train_feat = t_vectorizer.fit_transform(X_train)\n",
    "svm_test_feat = t_vectorizer.transform(X_test)\n",
    "\n",
    "svc = SVC()\n",
    "svc.fit(svm_train_feat, y_train)\n",
    "svm_predictions = svc.predict(svm_test_feat)"
   ]
  },
  {
   "cell_type": "code",
   "execution_count": 7,
   "metadata": {
    "collapsed": true
   },
   "outputs": [],
   "source": [
    "from sklearn.metrics import classification_report"
   ]
  },
  {
   "cell_type": "code",
   "execution_count": 8,
   "metadata": {},
   "outputs": [
    {
     "name": "stdout",
     "output_type": "stream",
     "text": [
      "             precision    recall  f1-score   support\n",
      "\n",
      "   negative       0.77      0.86      0.82       100\n",
      "   positive       0.84      0.75      0.79       100\n",
      "\n",
      "avg / total       0.81      0.81      0.80       200\n",
      "\n"
     ]
    }
   ],
   "source": [
    "print(classification_report(y_test, nb_predictions))"
   ]
  },
  {
   "cell_type": "code",
   "execution_count": 9,
   "metadata": {},
   "outputs": [
    {
     "name": "stdout",
     "output_type": "stream",
     "text": [
      "             precision    recall  f1-score   support\n",
      "\n",
      "   negative       0.86      0.75      0.80       100\n",
      "   positive       0.78      0.88      0.83       100\n",
      "\n",
      "avg / total       0.82      0.81      0.81       200\n",
      "\n"
     ]
    }
   ],
   "source": [
    "print(classification_report(y_test, svm_predictions))"
   ]
  },
  {
   "cell_type": "code",
   "execution_count": 10,
   "metadata": {},
   "outputs": [],
   "source": [
    "query = 'Bad movie.'\n",
    "query_arr = []\n",
    "query_arr.append(query)\n",
    "\n",
    "query_nb_feat = c_vectorizer.transform(query_arr)\n",
    "query_svm_feat = t_vectorizer.transform(query_arr)"
   ]
  },
  {
   "cell_type": "code",
   "execution_count": 11,
   "metadata": {},
   "outputs": [
    {
     "name": "stdout",
     "output_type": "stream",
     "text": [
      "['negative']\n"
     ]
    }
   ],
   "source": [
    "predictions = nb.predict(query_nb_feat)\n",
    "nb_predictions = []\n",
    "\n",
    "for prediction in predictions:\n",
    "    if(prediction.count('negative') > prediction.count('positive')):\n",
    "        nb_predictions.append('negative')\n",
    "    else:\n",
    "        nb_predictions.append('positive')\n",
    "print(nb_predictions)"
   ]
  },
  {
   "cell_type": "code",
   "execution_count": 12,
   "metadata": {},
   "outputs": [
    {
     "name": "stdout",
     "output_type": "stream",
     "text": [
      "['negative']\n"
     ]
    }
   ],
   "source": [
    "svm_predictions = svc.predict(query_svm_feat)\n",
    "print(svm_predictions)"
   ]
  }
 ],
 "metadata": {
  "kernelspec": {
   "display_name": "Python 3",
   "language": "python",
   "name": "python3"
  },
  "language_info": {
   "codemirror_mode": {
    "name": "ipython",
    "version": 3
   },
   "file_extension": ".py",
   "mimetype": "text/x-python",
   "name": "python",
   "nbconvert_exporter": "python",
   "pygments_lexer": "ipython3",
   "version": "3.6.2"
  }
 },
 "nbformat": 4,
 "nbformat_minor": 2
}
